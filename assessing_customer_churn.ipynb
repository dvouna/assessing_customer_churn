{
 "cells": [
  {
   "cell_type": "markdown",
   "id": "cdd466f9-a72a-44df-9e00-6926a97a4923",
   "metadata": {},
   "source": [
    "![Cartoon of telecom customers](IMG_8811.png)\n"
   ]
  },
  {
   "cell_type": "markdown",
   "id": "dafa483a-e084-4ba8-9236-5c0468364e0d",
   "metadata": {},
   "source": [
    "The telecommunications (telecom) sector in India is rapidly changing, with more and more telecom businesses being created and many customers deciding to switch between providers. \"Churn\" refers to the process where customers or subscribers stop using a company's services or products. Understanding the factors that influence keeping a customer as a client in predicting churn is crucial for telecom companies to enhance their service quality and customer satisfaction. As the data scientist on this project, you aim to explore the intricate dynamics of customer behavior and demographics in the Indian telecom sector in predicting customer churn, utilizing two comprehensive datasets from four major telecom partners: Airtel, Reliance Jio, Vodafone, and BSNL:\n",
    "\n",
    "- `telecom_demographics.csv` contains information related to Indian customer demographics:\n",
    "\n",
    "| Variable             | Description                                      |\n",
    "|----------------------|--------------------------------------------------|\n",
    "| `customer_id `         | Unique identifier for each customer.             |\n",
    "| `telecom_partner `     | The telecom partner associated with the customer.|\n",
    "| `gender `              | The gender of the customer.                      |\n",
    "| `age `                 | The age of the customer.                         |\n",
    "| `state`                | The Indian state in which the customer is located.|\n",
    "| `city`                 | The city in which the customer is located.       |\n",
    "| `pincode`              | The pincode of the customer's location.          |\n",
    "| `registration_event` | When the customer registered with the telecom partner.|\n",
    "| `num_dependents`      | The number of dependents (e.g., children) the customer has.|\n",
    "| `estimated_salary`     | The customer's estimated salary.                 |\n",
    "\n",
    "- `telecom_usage` contains information about the usage patterns of Indian customers:\n",
    "\n",
    "| Variable   | Description                                                  |\n",
    "|------------|--------------------------------------------------------------|\n",
    "| `customer_id` | Unique identifier for each customer.                         |\n",
    "| `calls_made` | The number of calls made by the customer.                    |\n",
    "| `sms_sent`   | The number of SMS messages sent by the customer.             |\n",
    "| `data_used`  | The amount of data used by the customer.                     |\n",
    "| `churn`    | Binary variable indicating whether the customer has churned or not (1 = churned, 0 = not churned).|\n"
   ]
  },
  {
   "cell_type": "code",
   "execution_count": 1,
   "id": "95efd3c7-a48a-49c2-9df6-36f078de3b38",
   "metadata": {
    "executionCancelledAt": null,
    "executionTime": 12,
    "lastExecutedAt": 1733373484028,
    "lastExecutedByKernel": "f6381fc2-e0ca-4116-96d7-823930389eda",
    "lastScheduledRunId": null,
    "lastSuccessfullyExecutedCode": "# Import libraries and methods/functions\nimport pandas as pd\nfrom sklearn.preprocessing import StandardScaler, OneHotEncoder \nfrom sklearn.model_selection import train_test_split\nfrom sklearn.linear_model import LogisticRegression\nfrom sklearn.ensemble import RandomForestClassifier\nfrom sklearn.metrics import classification_report, confusion_matrix\n\n# Start your code here!               "
   },
   "outputs": [],
   "source": [
    "# Import libraries and methods/functions\n",
    "import pandas as pd\n",
    "from sklearn.preprocessing import StandardScaler, OneHotEncoder \n",
    "from sklearn.model_selection import train_test_split\n",
    "from sklearn.linear_model import LogisticRegression\n",
    "from sklearn.ensemble import RandomForestClassifier\n",
    "from sklearn.metrics import classification_report, confusion_matrix\n",
    "\n",
    "# Start your code here!               "
   ]
  },
  {
   "cell_type": "code",
   "execution_count": 3,
   "id": "23b504a6-dfdf-463c-b107-21dddc1791a1",
   "metadata": {
    "executionCancelledAt": null,
    "executionTime": 47,
    "lastExecutedAt": 1733373484075,
    "lastExecutedByKernel": "f6381fc2-e0ca-4116-96d7-823930389eda",
    "lastScheduledRunId": null,
    "lastSuccessfullyExecutedCode": "# importing datasets \ntelecoms_df = pd.read_csv('telecom_demographics.csv') \n\nprint(telecoms_df.head()) \nprint(telecoms_df.shape) \nprint(telecoms_df.columns)",
    "outputsMetadata": {
     "0": {
      "height": 269,
      "type": "stream"
     }
    }
   },
   "outputs": [
    {
     "name": "stdout",
     "output_type": "stream",
     "text": [
      "   customer_id telecom_partner gender  age             state       city  \\\n",
      "0        15169          Airtel      F   26  Himachal Pradesh      Delhi   \n",
      "1       149207          Airtel      F   74       Uttarakhand  Hyderabad   \n",
      "2       148119          Airtel      F   54         Jharkhand    Chennai   \n",
      "3       187288    Reliance Jio      M   29             Bihar  Hyderabad   \n",
      "4        14016        Vodafone      M   45          Nagaland  Bangalore   \n",
      "\n",
      "   pincode registration_event  num_dependents  estimated_salary  \n",
      "0   667173         2020-03-16               4             85979  \n",
      "1   313997         2022-01-16               0             69445  \n",
      "2   549925         2022-01-11               2             75949  \n",
      "3   230636         2022-07-26               3             34272  \n",
      "4   188036         2020-03-11               4             34157  \n",
      "(6500, 10)\n",
      "<class 'pandas.core.frame.DataFrame'>\n",
      "RangeIndex: 6500 entries, 0 to 6499\n",
      "Data columns (total 10 columns):\n",
      " #   Column              Non-Null Count  Dtype \n",
      "---  ------              --------------  ----- \n",
      " 0   customer_id         6500 non-null   int64 \n",
      " 1   telecom_partner     6500 non-null   object\n",
      " 2   gender              6500 non-null   object\n",
      " 3   age                 6500 non-null   int64 \n",
      " 4   state               6500 non-null   object\n",
      " 5   city                6500 non-null   object\n",
      " 6   pincode             6500 non-null   int64 \n",
      " 7   registration_event  6500 non-null   object\n",
      " 8   num_dependents      6500 non-null   int64 \n",
      " 9   estimated_salary    6500 non-null   int64 \n",
      "dtypes: int64(5), object(5)\n",
      "memory usage: 507.9+ KB\n",
      "None\n"
     ]
    }
   ],
   "source": [
    "# importing datasets \n",
    "telecoms_df = pd.read_csv('telecom_demographics.csv') \n",
    "print(telecoms_df.head()) \n",
    "print(telecoms_df.shape) \n",
    "print(telecoms_df.info())"
   ]
  },
  {
   "cell_type": "code",
   "execution_count": 4,
   "id": "b7f113b6-c3e8-4a8c-8324-72f4ff67eea0",
   "metadata": {
    "executionCancelledAt": null,
    "executionTime": 48,
    "lastExecutedAt": 1733373484123,
    "lastExecutedByKernel": "f6381fc2-e0ca-4116-96d7-823930389eda",
    "lastScheduledRunId": null,
    "lastSuccessfullyExecutedCode": "# Checking shape of data \n\ntele_usage_df = pd.read_csv('telecom_usage.csv') \n\nprint(tele_usage_df.head())\n\nprint(tele_usage_df.shape)\nprint(tele_usage_df.columns)",
    "outputsMetadata": {
     "0": {
      "height": 185,
      "type": "stream"
     }
    }
   },
   "outputs": [
    {
     "name": "stdout",
     "output_type": "stream",
     "text": [
      "   customer_id  calls_made  sms_sent  data_used  churn\n",
      "0        15169          75        21       4532      1\n",
      "1       149207          35        38        723      1\n",
      "2       148119          70        47       4688      1\n",
      "3       187288          95        32      10241      1\n",
      "4        14016          66        23       5246      1\n",
      "(6500, 5)\n",
      "<class 'pandas.core.frame.DataFrame'>\n",
      "RangeIndex: 6500 entries, 0 to 6499\n",
      "Data columns (total 5 columns):\n",
      " #   Column       Non-Null Count  Dtype\n",
      "---  ------       --------------  -----\n",
      " 0   customer_id  6500 non-null   int64\n",
      " 1   calls_made   6500 non-null   int64\n",
      " 2   sms_sent     6500 non-null   int64\n",
      " 3   data_used    6500 non-null   int64\n",
      " 4   churn        6500 non-null   int64\n",
      "dtypes: int64(5)\n",
      "memory usage: 254.0 KB\n",
      "None\n"
     ]
    }
   ],
   "source": [
    "# Checking shape of data \n",
    "tele_usage_df = pd.read_csv('telecom_usage.csv') \n",
    "print(tele_usage_df.head())\n",
    "\n",
    "print(tele_usage_df.shape)\n",
    "print(tele_usage_df.info())"
   ]
  },
  {
   "cell_type": "code",
   "execution_count": 5,
   "id": "83e05e85-ae01-4763-a4c5-771b8c5a70e5",
   "metadata": {
    "executionCancelledAt": null,
    "executionTime": 57,
    "lastExecutedAt": 1733373484180,
    "lastExecutedByKernel": "f6381fc2-e0ca-4116-96d7-823930389eda",
    "lastScheduledRunId": null,
    "lastSuccessfullyExecutedCode": "# churn dataset \n\nchurn_df = telecoms_df.merge(tele_usage_df, on = 'customer_id') \nprint(churn_df.head())\nprint(churn_df.shape)\nprint(churn_df.info())",
    "outputsMetadata": {
     "0": {
      "height": 616,
      "type": "stream"
     }
    }
   },
   "outputs": [
    {
     "name": "stdout",
     "output_type": "stream",
     "text": [
      "   customer_id telecom_partner gender  age             state       city  \\\n",
      "0        15169          Airtel      F   26  Himachal Pradesh      Delhi   \n",
      "1       149207          Airtel      F   74       Uttarakhand  Hyderabad   \n",
      "2       148119          Airtel      F   54         Jharkhand    Chennai   \n",
      "3       187288    Reliance Jio      M   29             Bihar  Hyderabad   \n",
      "4        14016        Vodafone      M   45          Nagaland  Bangalore   \n",
      "\n",
      "   pincode registration_event  num_dependents  estimated_salary  calls_made  \\\n",
      "0   667173         2020-03-16               4             85979          75   \n",
      "1   313997         2022-01-16               0             69445          35   \n",
      "2   549925         2022-01-11               2             75949          70   \n",
      "3   230636         2022-07-26               3             34272          95   \n",
      "4   188036         2020-03-11               4             34157          66   \n",
      "\n",
      "   sms_sent  data_used  churn  \n",
      "0        21       4532      1  \n",
      "1        38        723      1  \n",
      "2        47       4688      1  \n",
      "3        32      10241      1  \n",
      "4        23       5246      1  \n",
      "(6500, 14)\n",
      "<class 'pandas.core.frame.DataFrame'>\n",
      "RangeIndex: 6500 entries, 0 to 6499\n",
      "Data columns (total 14 columns):\n",
      " #   Column              Non-Null Count  Dtype \n",
      "---  ------              --------------  ----- \n",
      " 0   customer_id         6500 non-null   int64 \n",
      " 1   telecom_partner     6500 non-null   object\n",
      " 2   gender              6500 non-null   object\n",
      " 3   age                 6500 non-null   int64 \n",
      " 4   state               6500 non-null   object\n",
      " 5   city                6500 non-null   object\n",
      " 6   pincode             6500 non-null   int64 \n",
      " 7   registration_event  6500 non-null   object\n",
      " 8   num_dependents      6500 non-null   int64 \n",
      " 9   estimated_salary    6500 non-null   int64 \n",
      " 10  calls_made          6500 non-null   int64 \n",
      " 11  sms_sent            6500 non-null   int64 \n",
      " 12  data_used           6500 non-null   int64 \n",
      " 13  churn               6500 non-null   int64 \n",
      "dtypes: int64(9), object(5)\n",
      "memory usage: 711.1+ KB\n",
      "None\n"
     ]
    }
   ],
   "source": [
    "# churn dataset \n",
    "churn_df = telecoms_df.merge(tele_usage_df, on = 'customer_id') \n",
    "print(churn_df.head())\n",
    "print(churn_df.shape)\n",
    "print(churn_df.info())"
   ]
  },
  {
   "cell_type": "code",
   "execution_count": 6,
   "id": "033256e7-976a-4642-be6b-844480fe800e",
   "metadata": {
    "executionCancelledAt": null,
    "executionTime": 55,
    "lastExecutedAt": 1733373484235,
    "lastExecutedByKernel": "f6381fc2-e0ca-4116-96d7-823930389eda",
    "lastScheduledRunId": null,
    "lastSuccessfullyExecutedCode": "churn_df.head()",
    "outputsMetadata": {
     "0": {
      "height": 50,
      "tableState": {
       "customFilter": {
        "const": {
         "type": "boolean",
         "valid": true,
         "value": true
        },
        "id": "8ee25dc4-212a-412c-a547-53f5e4f06732",
        "nodeType": "const"
       },
       "quickFilterText": ""
      },
      "type": "dataFrame"
     }
    }
   },
   "outputs": [
    {
     "data": {
      "text/html": [
       "<div>\n",
       "<style scoped>\n",
       "    .dataframe tbody tr th:only-of-type {\n",
       "        vertical-align: middle;\n",
       "    }\n",
       "\n",
       "    .dataframe tbody tr th {\n",
       "        vertical-align: top;\n",
       "    }\n",
       "\n",
       "    .dataframe thead th {\n",
       "        text-align: right;\n",
       "    }\n",
       "</style>\n",
       "<table border=\"1\" class=\"dataframe\">\n",
       "  <thead>\n",
       "    <tr style=\"text-align: right;\">\n",
       "      <th></th>\n",
       "      <th>customer_id</th>\n",
       "      <th>telecom_partner</th>\n",
       "      <th>gender</th>\n",
       "      <th>age</th>\n",
       "      <th>state</th>\n",
       "      <th>city</th>\n",
       "      <th>pincode</th>\n",
       "      <th>registration_event</th>\n",
       "      <th>num_dependents</th>\n",
       "      <th>estimated_salary</th>\n",
       "      <th>calls_made</th>\n",
       "      <th>sms_sent</th>\n",
       "      <th>data_used</th>\n",
       "      <th>churn</th>\n",
       "    </tr>\n",
       "  </thead>\n",
       "  <tbody>\n",
       "    <tr>\n",
       "      <th>0</th>\n",
       "      <td>15169</td>\n",
       "      <td>Airtel</td>\n",
       "      <td>F</td>\n",
       "      <td>26</td>\n",
       "      <td>Himachal Pradesh</td>\n",
       "      <td>Delhi</td>\n",
       "      <td>667173</td>\n",
       "      <td>2020-03-16</td>\n",
       "      <td>4</td>\n",
       "      <td>85979</td>\n",
       "      <td>75</td>\n",
       "      <td>21</td>\n",
       "      <td>4532</td>\n",
       "      <td>1</td>\n",
       "    </tr>\n",
       "    <tr>\n",
       "      <th>1</th>\n",
       "      <td>149207</td>\n",
       "      <td>Airtel</td>\n",
       "      <td>F</td>\n",
       "      <td>74</td>\n",
       "      <td>Uttarakhand</td>\n",
       "      <td>Hyderabad</td>\n",
       "      <td>313997</td>\n",
       "      <td>2022-01-16</td>\n",
       "      <td>0</td>\n",
       "      <td>69445</td>\n",
       "      <td>35</td>\n",
       "      <td>38</td>\n",
       "      <td>723</td>\n",
       "      <td>1</td>\n",
       "    </tr>\n",
       "    <tr>\n",
       "      <th>2</th>\n",
       "      <td>148119</td>\n",
       "      <td>Airtel</td>\n",
       "      <td>F</td>\n",
       "      <td>54</td>\n",
       "      <td>Jharkhand</td>\n",
       "      <td>Chennai</td>\n",
       "      <td>549925</td>\n",
       "      <td>2022-01-11</td>\n",
       "      <td>2</td>\n",
       "      <td>75949</td>\n",
       "      <td>70</td>\n",
       "      <td>47</td>\n",
       "      <td>4688</td>\n",
       "      <td>1</td>\n",
       "    </tr>\n",
       "    <tr>\n",
       "      <th>3</th>\n",
       "      <td>187288</td>\n",
       "      <td>Reliance Jio</td>\n",
       "      <td>M</td>\n",
       "      <td>29</td>\n",
       "      <td>Bihar</td>\n",
       "      <td>Hyderabad</td>\n",
       "      <td>230636</td>\n",
       "      <td>2022-07-26</td>\n",
       "      <td>3</td>\n",
       "      <td>34272</td>\n",
       "      <td>95</td>\n",
       "      <td>32</td>\n",
       "      <td>10241</td>\n",
       "      <td>1</td>\n",
       "    </tr>\n",
       "    <tr>\n",
       "      <th>4</th>\n",
       "      <td>14016</td>\n",
       "      <td>Vodafone</td>\n",
       "      <td>M</td>\n",
       "      <td>45</td>\n",
       "      <td>Nagaland</td>\n",
       "      <td>Bangalore</td>\n",
       "      <td>188036</td>\n",
       "      <td>2020-03-11</td>\n",
       "      <td>4</td>\n",
       "      <td>34157</td>\n",
       "      <td>66</td>\n",
       "      <td>23</td>\n",
       "      <td>5246</td>\n",
       "      <td>1</td>\n",
       "    </tr>\n",
       "  </tbody>\n",
       "</table>\n",
       "</div>"
      ],
      "text/plain": [
       "   customer_id telecom_partner gender  age             state       city  \\\n",
       "0        15169          Airtel      F   26  Himachal Pradesh      Delhi   \n",
       "1       149207          Airtel      F   74       Uttarakhand  Hyderabad   \n",
       "2       148119          Airtel      F   54         Jharkhand    Chennai   \n",
       "3       187288    Reliance Jio      M   29             Bihar  Hyderabad   \n",
       "4        14016        Vodafone      M   45          Nagaland  Bangalore   \n",
       "\n",
       "   pincode registration_event  num_dependents  estimated_salary  calls_made  \\\n",
       "0   667173         2020-03-16               4             85979          75   \n",
       "1   313997         2022-01-16               0             69445          35   \n",
       "2   549925         2022-01-11               2             75949          70   \n",
       "3   230636         2022-07-26               3             34272          95   \n",
       "4   188036         2020-03-11               4             34157          66   \n",
       "\n",
       "   sms_sent  data_used  churn  \n",
       "0        21       4532      1  \n",
       "1        38        723      1  \n",
       "2        47       4688      1  \n",
       "3        32      10241      1  \n",
       "4        23       5246      1  "
      ]
     },
     "execution_count": 6,
     "metadata": {},
     "output_type": "execute_result"
    }
   ],
   "source": [
    "churn_df.head()"
   ]
  },
  {
   "cell_type": "code",
   "execution_count": 145,
   "id": "fd2f5a5f-7738-4a4f-8c62-cad209fe784f",
   "metadata": {
    "executionCancelledAt": null,
    "executionTime": 52,
    "lastExecutedAt": 1733373484287,
    "lastExecutedByKernel": "f6381fc2-e0ca-4116-96d7-823930389eda",
    "lastScheduledRunId": null,
    "lastSuccessfullyExecutedCode": "# Churn rate \n\nprint(churn_df['churn'].value_counts(normalize=True))\n\nchurn_rate = churn_df['churn'].value_counts() / len(churn_df)\nprint(churn_rate)",
    "outputsMetadata": {
     "0": {
      "height": 143,
      "type": "stream"
     }
    }
   },
   "outputs": [
    {
     "name": "stdout",
     "output_type": "stream",
     "text": [
      "0    0.799538\n",
      "1    0.200462\n",
      "Name: churn, dtype: float64\n",
      "0    0.799538\n",
      "1    0.200462\n",
      "Name: churn, dtype: float64\n"
     ]
    }
   ],
   "source": [
    "# Churn rate \n",
    "print(churn_df['churn'].value_counts(normalize=True))\n",
    "\n",
    "churn_rate = churn_df['churn'].value_counts() / len(churn_df)\n",
    "print(churn_rate)"
   ]
  },
  {
   "cell_type": "code",
   "execution_count": 146,
   "id": "f37614e5-19d5-4e70-9e82-fff7e1dbea24",
   "metadata": {
    "executionCancelledAt": null,
    "executionTime": 62,
    "lastExecutedAt": 1733373484349,
    "lastExecutedByKernel": "f6381fc2-e0ca-4116-96d7-823930389eda",
    "lastScheduledRunId": null,
    "lastSuccessfullyExecutedCode": "# Converting categorical features\n\nchurn_df = pd.get_dummies(churn_df, columns=['telecom_partner', 'gender', 'state', 'city', 'registration_event'])\n\nprint(churn_df.columns)",
    "outputsMetadata": {
     "0": {
      "height": 227,
      "type": "stream"
     }
    }
   },
   "outputs": [
    {
     "name": "stdout",
     "output_type": "stream",
     "text": [
      "Index(['customer_id', 'age', 'pincode', 'num_dependents', 'estimated_salary',\n",
      "       'calls_made', 'sms_sent', 'data_used', 'churn',\n",
      "       'telecom_partner_Airtel',\n",
      "       ...\n",
      "       'registration_event_2023-04-24', 'registration_event_2023-04-25',\n",
      "       'registration_event_2023-04-26', 'registration_event_2023-04-27',\n",
      "       'registration_event_2023-04-28', 'registration_event_2023-04-29',\n",
      "       'registration_event_2023-04-30', 'registration_event_2023-05-01',\n",
      "       'registration_event_2023-05-02', 'registration_event_2023-05-03'],\n",
      "      dtype='object', length=1265)\n"
     ]
    }
   ],
   "source": [
    "# Converting categorical features\n",
    "\n",
    "churn_df = pd.get_dummies(churn_df, columns=['telecom_partner', 'gender', 'state', 'city', 'registration_event'])\n",
    "print(churn_df.columns)"
   ]
  },
  {
   "cell_type": "code",
   "execution_count": 147,
   "id": "b1b28cf0-7f1b-4599-9b77-cf20fbe32a2e",
   "metadata": {
    "executionCancelledAt": null,
    "executionTime": 134,
    "lastExecutedAt": 1733373484483,
    "lastExecutedByKernel": "f6381fc2-e0ca-4116-96d7-823930389eda",
    "lastScheduledRunId": null,
    "lastSuccessfullyExecutedCode": "# Splitting data\n\nscaler = StandardScaler() \n\nfeatures = churn_df.drop(['customer_id', 'churn'], axis=1)\nfeatures.head()\n\n# Scaling \nfeatures_scaled = scaler.fit_transform(features)",
    "outputsMetadata": {
     "0": {
      "height": 543,
      "type": "dataFrame"
     }
    }
   },
   "outputs": [],
   "source": [
    "# Splitting data\n",
    "\n",
    "scaler = StandardScaler() \n",
    "\n",
    "features = churn_df.drop(['customer_id', 'churn'], axis=1)\n",
    "features.head()\n",
    "\n",
    "# Scaling \n",
    "features_scaled = scaler.fit_transform(features)"
   ]
  },
  {
   "cell_type": "code",
   "execution_count": 148,
   "id": "d978ccee-3e8b-4bca-930d-cd0e15898bed",
   "metadata": {
    "executionCancelledAt": null,
    "executionTime": null,
    "lastExecutedAt": null,
    "lastExecutedByKernel": null,
    "lastScheduledRunId": null,
    "lastSuccessfullyExecutedCode": null,
    "outputsMetadata": {
     "0": {
      "height": 50,
      "tableState": {
       "customFilter": {
        "const": {
         "type": "boolean",
         "valid": true,
         "value": true
        },
        "id": "8ee25dc4-212a-412c-a547-53f5e4f06732",
        "nodeType": "const"
       },
       "quickFilterText": ""
      },
      "type": "dataFrame"
     }
    }
   },
   "outputs": [
    {
     "data": {
      "application/com.datacamp.data-table.v2+json": {
       "table": {
        "data": {
         "churn": [
          1,
          1,
          1,
          1,
          1
         ],
         "index": [
          0,
          1,
          2,
          3,
          4
         ]
        },
        "schema": {
         "fields": [
          {
           "name": "index",
           "type": "integer"
          },
          {
           "name": "churn",
           "type": "integer"
          }
         ],
         "pandas_version": "1.4.0",
         "primaryKey": [
          "index"
         ]
        }
       },
       "total_rows": 5,
       "truncation_type": null
      },
      "text/plain": [
       "0    1\n",
       "1    1\n",
       "2    1\n",
       "3    1\n",
       "4    1\n",
       "Name: churn, dtype: int64"
      ]
     },
     "execution_count": 148,
     "metadata": {},
     "output_type": "execute_result"
    }
   ],
   "source": [
    "# scaling \n",
    "\n",
    "target = churn_df['churn'] \n",
    "target.head() "
   ]
  },
  {
   "cell_type": "code",
   "execution_count": 149,
   "id": "7b482fdc-b890-424e-97d7-8bea3ee0b32d",
   "metadata": {
    "executionCancelledAt": null,
    "executionTime": 53,
    "lastExecutedAt": 1733373484588,
    "lastExecutedByKernel": "f6381fc2-e0ca-4116-96d7-823930389eda",
    "lastScheduledRunId": null,
    "lastSuccessfullyExecutedCode": "# Splitting data \n\nX_train, X_test, y_train, y_test = train_test_split(features_scaled, target, test_size=0.2, random_state=42) "
   },
   "outputs": [],
   "source": [
    "# Splitting data \n",
    "\n",
    "X_train, X_test, y_train, y_test = train_test_split(features_scaled, target, test_size=0.2, random_state=42) "
   ]
  },
  {
   "cell_type": "code",
   "execution_count": 150,
   "id": "b9fd0074-1b53-42a3-a453-1be68abdaef7",
   "metadata": {
    "executionCancelledAt": null,
    "executionTime": 2510,
    "lastExecutedAt": 1733373487098,
    "lastExecutedByKernel": "f6381fc2-e0ca-4116-96d7-823930389eda",
    "lastScheduledRunId": null,
    "lastSuccessfullyExecutedCode": "# fitting logistic regression model \nlogreg = LogisticRegression(random_state=42) \n\nlogreg.fit(X_train, y_train)\nlogreg_pred = logreg.predict(X_test) \n\n# confusion matrix\nprint(confusion_matrix(y_test, logreg_pred)) \n\n# classification_report \nprint(classification_report(y_test, logreg_pred))",
    "outputsMetadata": {
     "0": {
      "height": 248,
      "type": "stream"
     }
    }
   },
   "outputs": [
    {
     "name": "stdout",
     "output_type": "stream",
     "text": [
      "[[920 107]\n",
      " [245  28]]\n",
      "              precision    recall  f1-score   support\n",
      "\n",
      "           0       0.79      0.90      0.84      1027\n",
      "           1       0.21      0.10      0.14       273\n",
      "\n",
      "    accuracy                           0.73      1300\n",
      "   macro avg       0.50      0.50      0.49      1300\n",
      "weighted avg       0.67      0.73      0.69      1300\n",
      "\n"
     ]
    }
   ],
   "source": [
    "# fitting logistic regression model \n",
    "logreg = LogisticRegression(random_state=42) \n",
    "\n",
    "logreg.fit(X_train, y_train)\n",
    "logreg_pred = logreg.predict(X_test) \n",
    "\n",
    "# confusion matrix\n",
    "print(confusion_matrix(y_test, logreg_pred)) \n",
    "\n",
    "# classification_report \n",
    "print(classification_report(y_test, logreg_pred))"
   ]
  },
  {
   "cell_type": "code",
   "execution_count": 151,
   "id": "bee4c06f-c5b1-4c61-bbe1-e6facda43d61",
   "metadata": {
    "executionCancelledAt": null,
    "executionTime": 3758,
    "lastExecutedAt": 1733373490856,
    "lastExecutedByKernel": "f6381fc2-e0ca-4116-96d7-823930389eda",
    "lastScheduledRunId": null,
    "lastSuccessfullyExecutedCode": "# fitting random forest \n\nrf = RandomForestClassifier(random_state=42) \n\nrf.fit(X_train, y_train)\nrf_pred = rf.predict(X_test)\n\nprint(confusion_matrix(y_test, rf_pred))\nprint(classification_report(y_test, rf_pred))",
    "outputsMetadata": {
     "0": {
      "height": 248,
      "type": "stream"
     }
    }
   },
   "outputs": [
    {
     "name": "stdout",
     "output_type": "stream",
     "text": [
      "[[1026    1]\n",
      " [ 273    0]]\n",
      "              precision    recall  f1-score   support\n",
      "\n",
      "           0       0.79      1.00      0.88      1027\n",
      "           1       0.00      0.00      0.00       273\n",
      "\n",
      "    accuracy                           0.79      1300\n",
      "   macro avg       0.39      0.50      0.44      1300\n",
      "weighted avg       0.62      0.79      0.70      1300\n",
      "\n"
     ]
    }
   ],
   "source": [
    "# fitting random forest \n",
    "\n",
    "rf = RandomForestClassifier(random_state=42) \n",
    "\n",
    "rf.fit(X_train, y_train)\n",
    "rf_pred = rf.predict(X_test)\n",
    "\n",
    "print(confusion_matrix(y_test, rf_pred))\n",
    "print(classification_report(y_test, rf_pred))"
   ]
  },
  {
   "cell_type": "code",
   "execution_count": 152,
   "id": "468b86bf-079f-4bd1-a295-51d6d152e46e",
   "metadata": {
    "executionCancelledAt": null,
    "executionTime": 47,
    "lastExecutedAt": 1733373490903,
    "lastExecutedByKernel": "f6381fc2-e0ca-4116-96d7-823930389eda",
    "lastScheduledRunId": null,
    "lastSuccessfullyExecutedCode": "# higher accuracy \n\nhigher_accuracy = 'RandomForest'"
   },
   "outputs": [],
   "source": [
    "# higher accuracy \n",
    "\n",
    "higher_accuracy = 'RandomForest'"
   ]
  }
 ],
 "metadata": {
  "colab": {
   "name": "Welcome to DataCamp Workspaces.ipynb",
   "provenance": []
  },
  "kernelspec": {
   "display_name": "Python 3",
   "language": "python",
   "name": "python3"
  },
  "language_info": {
   "codemirror_mode": {
    "name": "ipython",
    "version": 3
   },
   "file_extension": ".py",
   "mimetype": "text/x-python",
   "name": "python",
   "nbconvert_exporter": "python",
   "pygments_lexer": "ipython3",
   "version": "3.12.8"
  }
 },
 "nbformat": 4,
 "nbformat_minor": 5
}
